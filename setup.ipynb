{
 "cells": [
  {
   "cell_type": "code",
   "execution_count": null,
   "metadata": {},
   "outputs": [],
   "source": [
    "from setuptools import setup, find_packages\n",
    "\n",
    "with open(\"README.md\", \"r\") as f:\n",
    "    page_description = f.read()\n",
    "\n",
    "with open(\"requirementss.txt\") as f:\n",
    "    requirements = f.read().splitlines()\n",
    "\n",
    "setup(\n",
    "    name=\"image_processing-test\",\n",
    "    version=\"0.0.2\",\n",
    "    author=\"Vitória da Cunha Azambuja\",\n",
    "    author_email=\"vitoriazambuja@hotmail.com\",\n",
    "    description=\"Test version - Image processing\",\n",
    "    long_description=page_description,\n",
    "    long_description_content_type=\"text/markdown\",\n",
    "    url=\"https://github.com/VitoriaAzambuja/image-processing-package-testpypi\",\n",
    "    packages=find_packages(),\n",
    "    install_requires=requirements,\n",
    "    python_requires='>=3.8',\n",
    ")"
   ]
  }
 ],
 "metadata": {
  "language_info": {
   "name": "python"
  },
  "orig_nbformat": 4
 },
 "nbformat": 4,
 "nbformat_minor": 2
}
